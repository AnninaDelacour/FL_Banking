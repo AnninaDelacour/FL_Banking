{
 "cells": [
  {
   "cell_type": "code",
   "execution_count": 1,
   "id": "ab05257a-f777-44ad-836a-0ffac70d85d2",
   "metadata": {},
   "outputs": [],
   "source": [
    "import xgboost as xgb\n",
    "from xgboost import XGBClassifier\n",
    "import pandas as pd\n",
    "import numpy as np\n",
    "\n",
    "from sklearn.model_selection import train_test_split\n",
    "from sklearn.metrics import classification_report, roc_auc_score, log_loss\n",
    "\n",
    "import wandb\n",
    "from wandb.sklearn import plot_precision_recall, plot_feature_importances\n",
    "from wandb.sklearn import plot_class_proportions, plot_learning_curve, plot_roc\n",
    "\n",
    "import warnings \n",
    "warnings.filterwarnings('ignore')\n",
    "\n",
    "import seaborn as sns\n",
    "import matplotlib.pyplot as plt\n",
    "\n",
    "import os\n",
    "\n",
    "import circlify\n",
    "import plotly.express as px\n",
    "\n",
    "import joblib"
   ]
  },
  {
   "cell_type": "code",
   "execution_count": 2,
   "id": "ed10651b-274f-49e8-ada3-bee14ecb65b0",
   "metadata": {},
   "outputs": [],
   "source": [
    "selected_features = [\n",
    "    \"Married\", \"Never-married\", \"Bachelors\", \"Masters\", \"HS-grad\", \n",
    "    \"Capital-gain\", \"Exec-managerial\", \"Other-service\", \n",
    "    \"Own-child\", \"Unmarried\", \"Male\"\n",
    "]\n",
    "\n",
    "bankA_data = pd.read_csv(\"BankA_Clean.csv\")\n",
    "bankB_data = pd.read_csv(\"BankB_Clean.csv\")\n",
    "bankC_data = pd.read_csv(\"BankC_Clean.csv\")"
   ]
  },
  {
   "cell_type": "code",
   "execution_count": 3,
   "id": "e1c0f4fd-fa82-4af5-91e8-e03b27685e44",
   "metadata": {},
   "outputs": [
    {
     "name": "stdout",
     "output_type": "stream",
     "text": [
      "Shape of combined data: (799999, 97)\n"
     ]
    }
   ],
   "source": [
    "combined_data = pd.concat([bankA_data, bankB_data, bankC_data], axis=0)\n",
    "\n",
    "combined_data[\"income\"] = combined_data[\"income\"].astype(int)\n",
    "\n",
    "print(\"Shape of combined data:\", combined_data.shape)"
   ]
  },
  {
   "cell_type": "code",
   "execution_count": 4,
   "id": "08410605-bbda-405a-92da-05e592050800",
   "metadata": {},
   "outputs": [],
   "source": [
    "column_mapping = {\n",
    "    \"marital-status_Married-civ-spouse\": \"Married\",\n",
    "    \"marital-status_Never-married\": \"Never-married\",\n",
    "    \"education_Bachelors\": \"Bachelors\",\n",
    "    \"education_Masters\": \"Masters\",\n",
    "    \"education_HS-grad\": \"HS-grad\",\n",
    "    \"capital-gain\": \"Capital-gain\",\n",
    "    \"occupation_Exec-managerial\": \"Exec-managerial\",\n",
    "    \"occupation_Other-service\": \"Other-service\",\n",
    "    \"relationship_Own-child\": \"Own-child\",\n",
    "    \"relationship_Unmarried\": \"Unmarried\",\n",
    "    \"sex_Male\": \"Male\",\n",
    "}\n"
   ]
  },
  {
   "cell_type": "code",
   "execution_count": 5,
   "id": "2772d34c-3b56-41d1-951d-76952c387311",
   "metadata": {},
   "outputs": [],
   "source": [
    "combined_data.rename(columns=column_mapping, inplace=True)\n",
    "\n",
    "selected_columns = list(column_mapping.values()) + [\"income\"]\n",
    "combined_data = combined_data[selected_columns]\n"
   ]
  },
  {
   "cell_type": "code",
   "execution_count": 8,
   "id": "299a0b68-3730-4b27-941c-ae13bbdf33a6",
   "metadata": {},
   "outputs": [],
   "source": [
    "X = combined_data[selected_features]\n",
    "y = combined_data[\"income\"]\n",
    "\n",
    "X_train, X_test, y_train, y_test = train_test_split(X, y, test_size=0.2, random_state=42)"
   ]
  },
  {
   "cell_type": "code",
   "execution_count": 12,
   "id": "d7a9ba60-efe3-429a-af52-fc85cc9b9f2a",
   "metadata": {},
   "outputs": [
    {
     "data": {
      "text/html": [
       "Tracking run with wandb version 0.19.4"
      ],
      "text/plain": [
       "<IPython.core.display.HTML object>"
      ]
     },
     "metadata": {},
     "output_type": "display_data"
    },
    {
     "data": {
      "text/html": [
       "Run data is saved locally in <code>/Users/annina/Documents/FH/FHStPoelten/FML/assignment2/flmodel/wandb/run-20250127_214300-n0b5uwhh</code>"
      ],
      "text/plain": [
       "<IPython.core.display.HTML object>"
      ]
     },
     "metadata": {},
     "output_type": "display_data"
    },
    {
     "data": {
      "text/html": [
       "Syncing run <strong><a href='https://wandb.ai/laure-annina/global-model/runs/n0b5uwhh' target=\"_blank\">baseline-run</a></strong> to <a href='https://wandb.ai/laure-annina/global-model' target=\"_blank\">Weights & Biases</a> (<a href='https://wandb.me/developer-guide' target=\"_blank\">docs</a>)<br>"
      ],
      "text/plain": [
       "<IPython.core.display.HTML object>"
      ]
     },
     "metadata": {},
     "output_type": "display_data"
    },
    {
     "data": {
      "text/html": [
       " View project at <a href='https://wandb.ai/laure-annina/global-model' target=\"_blank\">https://wandb.ai/laure-annina/global-model</a>"
      ],
      "text/plain": [
       "<IPython.core.display.HTML object>"
      ]
     },
     "metadata": {},
     "output_type": "display_data"
    },
    {
     "data": {
      "text/html": [
       " View run at <a href='https://wandb.ai/laure-annina/global-model/runs/n0b5uwhh' target=\"_blank\">https://wandb.ai/laure-annina/global-model/runs/n0b5uwhh</a>"
      ],
      "text/plain": [
       "<IPython.core.display.HTML object>"
      ]
     },
     "metadata": {},
     "output_type": "display_data"
    },
    {
     "name": "stdout",
     "output_type": "stream",
     "text": [
      "[0]\ttrain-auc:0.83740\tval-auc:0.84014\n",
      "[50]\ttrain-auc:0.88269\tval-auc:0.88488\n",
      "[100]\ttrain-auc:0.88399\tval-auc:0.88602\n",
      "[150]\ttrain-auc:0.88436\tval-auc:0.88621\n",
      "[199]\ttrain-auc:0.88455\tval-auc:0.88625\n",
      "Test AUC: 0.886247520659685\n"
     ]
    },
    {
     "data": {
      "text/html": [],
      "text/plain": [
       "<IPython.core.display.HTML object>"
      ]
     },
     "metadata": {},
     "output_type": "display_data"
    },
    {
     "data": {
      "text/html": [
       "<br>    <style><br>        .wandb-row {<br>            display: flex;<br>            flex-direction: row;<br>            flex-wrap: wrap;<br>            justify-content: flex-start;<br>            width: 100%;<br>        }<br>        .wandb-col {<br>            display: flex;<br>            flex-direction: column;<br>            flex-basis: 100%;<br>            flex: 1;<br>            padding: 10px;<br>        }<br>    </style><br><div class=\"wandb-row\"><div class=\"wandb-col\"><h3>Run history:</h3><br/><table class=\"wandb\"><tr><td>Test AUC</td><td>▁</td></tr></table><br/></div><div class=\"wandb-col\"><h3>Run summary:</h3><br/><table class=\"wandb\"><tr><td>Test AUC</td><td>0.88625</td></tr></table><br/></div></div>"
      ],
      "text/plain": [
       "<IPython.core.display.HTML object>"
      ]
     },
     "metadata": {},
     "output_type": "display_data"
    },
    {
     "data": {
      "text/html": [
       " View run <strong style=\"color:#cdcd00\">baseline-run</strong> at: <a href='https://wandb.ai/laure-annina/global-model/runs/n0b5uwhh' target=\"_blank\">https://wandb.ai/laure-annina/global-model/runs/n0b5uwhh</a><br> View project at: <a href='https://wandb.ai/laure-annina/global-model' target=\"_blank\">https://wandb.ai/laure-annina/global-model</a><br>Synced 5 W&B file(s), 1 media file(s), 0 artifact file(s) and 1 other file(s)"
      ],
      "text/plain": [
       "<IPython.core.display.HTML object>"
      ]
     },
     "metadata": {},
     "output_type": "display_data"
    },
    {
     "data": {
      "text/html": [
       "Find logs at: <code>./wandb/run-20250127_214300-n0b5uwhh/logs</code>"
      ],
      "text/plain": [
       "<IPython.core.display.HTML object>"
      ]
     },
     "metadata": {},
     "output_type": "display_data"
    },
    {
     "data": {
      "image/png": "[encoded data removed]",
      "text/plain": [
       "<Figure size 640x480 with 1 Axes>"
      ]
     },
     "metadata": {},
     "output_type": "display_data"
    }
   ],
   "source": [
    "wandb.init(\n",
    "    project=\"global-model\",\n",
    "    name=\"baseline-run\",\n",
    "    config={\n",
    "        \"objective\": \"binary:logistic\",\n",
    "        \"eval_metric\": \"auc\",\n",
    "        \"max_depth\": 6,\n",
    "        \"learning_rate\": 0.1466,\n",
    "        \"subsample\": 0.9383,\n",
    "        \"colsample_bytree\": 0.8631,\n",
    "        \"min_child_weight\": 6,\n",
    "        \"n_estimators\": 200,\n",
    "        \"reg_alpha\": 0.9566,\n",
    "        \"reg_lambda\": 1.866,\n",
    "        \"early_stopping_rounds\": 500\n",
    "    },\n",
    "    reinit=True\n",
    ")\n",
    "\n",
    "config = wandb.config\n",
    "\n",
    "dtrain = xgb.DMatrix(X_train, label=y_train, feature_names=list(X_train.columns))\n",
    "dval = xgb.DMatrix(X_test, label=y_test, feature_names=list(X_test.columns))\n",
    "dtest = xgb.DMatrix(X_test, label=y_test, feature_names=list(X_test.columns))\n",
    "\n",
    "\n",
    "params = {\n",
    "    \"objective\": config.objective,\n",
    "    \"eval_metric\": config.eval_metric,\n",
    "    \"max_depth\": config.max_depth,\n",
    "    \"learning_rate\": config.learning_rate,\n",
    "    \"subsample\": config.subsample,\n",
    "    \"colsample_bytree\": config.colsample_bytree,\n",
    "    \"min_child_weight\": config.min_child_weight,\n",
    "    \"reg_alpha\": config.reg_alpha,\n",
    "    \"reg_lambda\": config.reg_lambda,\n",
    "}\n",
    "\n",
    "\n",
    "num_boost_round = config.n_estimators\n",
    "early_stopping_rounds = config.early_stopping_rounds\n",
    "\n",
    "bst = xgb.train(\n",
    "    params,\n",
    "    dtrain,\n",
    "    num_boost_round=num_boost_round,\n",
    "    evals=[(dtrain, \"train\"), (dval, \"val\")],\n",
    "    early_stopping_rounds=early_stopping_rounds,\n",
    "    verbose_eval=50,\n",
    ")\n",
    "\n",
    "y_test_preds = bst.predict(dtest)\n",
    "auc_test = roc_auc_score(y_test, y_test_preds)\n",
    "\n",
    "wandb.log({\"Test AUC\": auc_test})\n",
    "\n",
    "xgb.plot_importance(bst, importance_type=\"weight\", max_num_features=10)\n",
    "plt.title(\"Top 10 Feature Importance\")\n",
    "plt.savefig(\"top10_feature_importance.png\")\n",
    "wandb.log({\"Feature Importance\": wandb.Image(\"top10_feature_importance.png\")})\n",
    "\n",
    "bst.save_model(\"global_model.json\")\n",
    "wandb.save(\"global_model.json\")\n",
    "\n",
    "\n",
    "wandb.finish()"
   ]
  }
 ],
 "metadata": {
  "kernelspec": {
   "display_name": "Python 3 (ipykernel)",
   "language": "python",
   "name": "python3"
  },
  "language_info": {
   "codemirror_mode": {
    "name": "ipython",
    "version": 3
   },
   "file_extension": ".py",
   "mimetype": "text/x-python",
   "name": "python",
   "nbconvert_exporter": "python",
   "pygments_lexer": "ipython3",
   "version": "3.9.21"
  }
 },
 "nbformat": 4,
 "nbformat_minor": 5
}
