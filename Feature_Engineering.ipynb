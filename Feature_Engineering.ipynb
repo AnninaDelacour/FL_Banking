{
 "cells": [
  {
   "cell_type": "code",
   "execution_count": 1,
   "id": "a1847ee5-a3f4-44ae-b930-415da0045707",
   "metadata": {},
   "outputs": [],
   "source": [
    "import pandas as pd\n",
    "import matplotlib.pyplot as plt\n",
    "import pandas as pd\n",
    "import numpy as np\n",
    "\n",
    "import seaborn as sns\n",
    "import matplotlib.pyplot as plt\n",
    "\n",
    "from sklearn.ensemble import RandomForestClassifier\n",
    "\n",
    "from sklearn.inspection import permutation_importance\n",
    "\n",
    "from sklearn.preprocessing import MinMaxScaler\n",
    "from sklearn.feature_selection import SelectKBest, chi2\n",
    "import logging as log\n",
    "from sklearn.metrics import log_loss, roc_auc_score, precision_score, recall_score, f1_score\n",
    "from sklearn.preprocessing import LabelEncoder\n",
    "\n",
    "from sklearn.decomposition import PCA\n",
    "\n",
    "from sklearn import config_context\n",
    "\n",
    "import os\n",
    "\n",
    "import circlify\n",
    "import plotly.express as px\n",
    "\n",
    "import xgboost as xgb\n",
    "\n",
    "import shap"
   ]
  },
  {
   "cell_type": "code",
   "execution_count": 3,
   "id": "f1f778d5-f02a-49f8-9141-3fa6d3584c9b",
   "metadata": {},
   "outputs": [],
   "source": [
    "bankA_data = pd.read_csv(\"BankA_Clean.csv\")\n",
    "bankB_data = pd.read_csv(\"BankB_Clean.csv\")\n",
    "bankC_data = pd.read_csv(\"BankC_Clean.csv\")"
   ]
  },
  {
   "cell_type": "code",
   "execution_count": 36,
   "id": "3cbd8501-ded0-438a-b39d-69f7c3a7338a",
   "metadata": {},
   "outputs": [
    {
     "name": "stdout",
     "output_type": "stream",
     "text": [
      "Data cleansing done, saving files as 'bankA_final.csv', 'bankB_final.csv', 'bankC_final.csv'.\n"
     ]
    }
   ],
   "source": [
    "bank_files = {\"A\": \"BankA_Clean.csv\", \"B\": \"BankB_Clean.csv\", \"C\": \"BankC_Clean.csv\"}\n",
    "banks = {key: pd.read_csv(file) for key, file in bank_files.items()}\n",
    "\n",
    "drop_features = [\"race_Black\", \"sex_Male\"]\n",
    "\n",
    "education_low = [\"education_Preschool\"]\n",
    "education_medium = [\"education_HS-grad\", \"education_Some-college\", \"education_Assoc-acdm\", \"education_Assoc-voc\"]\n",
    "education_high = [\"education_Bachelors\", \"education_Masters\", \"education_Doctorate\", \"education_Prof-school\"]\n",
    "\n",
    "for key, df in banks.items():\n",
    "    df[\"income\"] = df[\"income\"].astype(int)\n",
    "    df.drop(columns=drop_features, errors=\"ignore\", inplace=True)\n",
    "\n",
    "    df[\"education_group\"] = \"Low\"\n",
    "    df.loc[df[education_medium].sum(axis=1) > 0, \"education_group\"] = \"Medium\"\n",
    "    df.loc[df[education_high].sum(axis=1) > 0, \"education_group\"] = \"High\"\n",
    "    df.drop(columns=education_low + education_medium + education_high, errors=\"ignore\", inplace=True)\n",
    "\n",
    "    df[\"marital_status_group\"] = \"Single\"\n",
    "    df.loc[df.get(\"marital-status_Married-civ-spouse\", 0) == 1, \"marital_status_group\"] = \"Married\"\n",
    "    df.drop(columns=[col for col in df.columns if \"marital-status\" in col], errors=\"ignore\", inplace=True)\n",
    "\n",
    "    occupation_mid = [\"occupation_Exec-managerial\", \"occupation_Tech-support\"]\n",
    "    occupation_high = [\"occupation_Prof-specialty\"]\n",
    "    df[\"occupation_group\"] = \"Low-Skill\"\n",
    "    df.loc[df[occupation_mid].sum(axis=1) > 0, \"occupation_group\"] = \"Mid-Skill\"\n",
    "    df.loc[df[occupation_high].sum(axis=1) > 0, \"occupation_group\"] = \"High-Skill\"\n",
    "\n",
    "    relationship_mapping = {\n",
    "        \"relationship_Own-child\": \"dependent\",\n",
    "        \"relationship_Wife\": \"married\",\n",
    "        \"relationship_Not-in-family\": \"independent\",\n",
    "        \"relationship_Unmarried\": \"single\",\n",
    "        \"relationship_Other-relative\": \"dependent\"\n",
    "    }\n",
    "    df[\"relationship_group\"] = df.apply(lambda row: next((v for k, v in relationship_mapping.items() if row.get(k, 0) == 1), \"unknown\"), axis=1)\n",
    "\n",
    "    workclass_mapping = {\n",
    "        \"workclass_Private\": \"private\",\n",
    "        \"workclass_Self-emp-not-inc\": \"self-employed\",\n",
    "        \"workclass_Local-gov\": \"government\",\n",
    "        \"workclass_State-gov\": \"government\"\n",
    "    }\n",
    "    df[\"workclass_group\"] = df.apply(lambda row: next((v for k, v in workclass_mapping.items() if row.get(k, 0) == 1), \"other\"), axis=1)\n",
    "\n",
    "    categorical_columns = [\"education_group\", \"marital_status_group\", \"occupation_group\", \"relationship_group\", \"workclass_group\"]\n",
    "    df[categorical_columns] = df[categorical_columns].astype(\"category\")\n",
    "\n",
    "    df.to_csv(f\"bank{key}_final.csv\", index=False)\n",
    "\n",
    "print(\"Data cleansing done, saving files as 'bankA_final.csv', 'bankB_final.csv', 'bankC_final.csv'.\")\n"
   ]
  }
 ],
 "metadata": {
  "kernelspec": {
   "display_name": "Python 3 (ipykernel)",
   "language": "python",
   "name": "python3"
  },
  "language_info": {
   "codemirror_mode": {
    "name": "ipython",
    "version": 3
   },
   "file_extension": ".py",
   "mimetype": "text/x-python",
   "name": "python",
   "nbconvert_exporter": "python",
   "pygments_lexer": "ipython3",
   "version": "3.9.21"
  }
 },
 "nbformat": 4,
 "nbformat_minor": 5
}
