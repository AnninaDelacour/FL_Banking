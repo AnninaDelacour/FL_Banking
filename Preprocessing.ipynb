{
 "cells": [
  {
   "cell_type": "code",
   "execution_count": 1,
   "id": "3d936669-c355-43ae-ab50-4a51c7ee810c",
   "metadata": {},
   "outputs": [],
   "source": [
    "import wandb\n",
    "\n",
    "import pandas as pd\n",
    "import numpy as np\n",
    "from sklearn.preprocessing import normalize\n",
    "from sklearn.model_selection import train_test_split\n",
    "\n",
    "from sklearn.impute import KNNImputer\n",
    "from sklearn.preprocessing import LabelEncoder, StandardScaler\n"
   ]
  },
  {
   "cell_type": "code",
   "execution_count": 2,
   "id": "bd8ed056-9d16-4a83-ae07-4b02ffc4fcd9",
   "metadata": {},
   "outputs": [],
   "source": [
    "bankA_df = pd.read_csv(\"BankA.csv\")\n",
    "bankB_df = pd.read_csv(\"BankB.csv\")\n",
    "bankC_df = pd.read_csv(\"BankC.csv\")"
   ]
  },
  {
   "cell_type": "code",
   "execution_count": 7,
   "id": "0a33edba-0fa0-4f02-9cbf-661c96244513",
   "metadata": {},
   "outputs": [
    {
     "name": "stdout",
     "output_type": "stream",
     "text": [
      "Shape: (226456, 15)\n",
      "Shape: (402923, 15)\n",
      "Shape: (170620, 15)\n"
     ]
    }
   ],
   "source": [
    "bankA_df.replace(\"?\", np.nan, inplace=True)\n",
    "print(f\"Shape: {bankA_df.shape}\")\n",
    "\n",
    "bankB_df.replace(\"?\", np.nan, inplace=True)\n",
    "print(f\"Shape: {bankB_df.shape}\")\n",
    "\n",
    "bankC_df.replace(\"?\", np.nan, inplace=True)\n",
    "print(f\"Shape: {bankC_df.shape}\")"
   ]
  },
  {
   "cell_type": "code",
   "execution_count": null,
   "id": "298fcbb9-650f-458f-b4f7-d69006a7b9ff",
   "metadata": {},
   "outputs": [],
   "source": [
    "bankA_df.info()"
   ]
  },
  {
   "cell_type": "code",
   "execution_count": null,
   "id": "9b0b698d-9d0a-4645-b75b-906a5a98512b",
   "metadata": {},
   "outputs": [],
   "source": [
    "bankA_df.describe().T"
   ]
  },
  {
   "cell_type": "code",
   "execution_count": null,
   "id": "8242ffdc-7bce-48b9-9656-ed1fc08ca9ce",
   "metadata": {},
   "outputs": [],
   "source": [
    "bankB_df.info()"
   ]
  },
  {
   "cell_type": "code",
   "execution_count": null,
   "id": "65ab1b61-e615-443b-bb16-65daf6af800d",
   "metadata": {},
   "outputs": [],
   "source": [
    "bankB_df.describe().T"
   ]
  },
  {
   "cell_type": "code",
   "execution_count": 6,
   "id": "9bfed520-ec84-44a4-ae08-a5a143c4e806",
   "metadata": {},
   "outputs": [
    {
     "name": "stdout",
     "output_type": "stream",
     "text": [
      "<class 'pandas.core.frame.DataFrame'>\n",
      "RangeIndex: 170620 entries, 0 to 170619\n",
      "Data columns (total 15 columns):\n",
      " #   Column           Non-Null Count   Dtype \n",
      "---  ------           --------------   ----- \n",
      " 0   institute        170620 non-null  object\n",
      " 1   age              170620 non-null  int64 \n",
      " 2   workclass        170620 non-null  object\n",
      " 3   education        170620 non-null  object\n",
      " 4   educational-num  170620 non-null  int64 \n",
      " 5   marital-status   170620 non-null  object\n",
      " 6   occupation       170620 non-null  object\n",
      " 7   relationship     170620 non-null  object\n",
      " 8   race             170620 non-null  object\n",
      " 9   gender           170620 non-null  object\n",
      " 10  capital-gain     170620 non-null  int64 \n",
      " 11  capital-loss     170620 non-null  int64 \n",
      " 12  hours-per-week   170620 non-null  int64 \n",
      " 13  native-country   170620 non-null  object\n",
      " 14  income           170620 non-null  object\n",
      "dtypes: int64(5), object(10)\n",
      "memory usage: 19.5+ MB\n"
     ]
    }
   ],
   "source": [
    "bankC_df.info()"
   ]
  },
  {
   "cell_type": "code",
   "execution_count": null,
   "id": "00834ebd-9f49-460a-8ba7-3df61fb586cd",
   "metadata": {},
   "outputs": [],
   "source": [
    "bankC_df.describe().T"
   ]
  },
  {
   "cell_type": "code",
   "execution_count": null,
   "id": "44042c56-6874-4dea-ba2d-452a2ccd6c75",
   "metadata": {
    "scrolled": true
   },
   "outputs": [],
   "source": [
    "bankA_df.head(20)"
   ]
  },
  {
   "cell_type": "code",
   "execution_count": null,
   "id": "d7defb94-0470-452b-9aef-515c3906bdb4",
   "metadata": {
    "scrolled": true
   },
   "outputs": [],
   "source": [
    "bankB_df.head(20)"
   ]
  },
  {
   "cell_type": "code",
   "execution_count": null,
   "id": "e1f1197d-ab8d-4c0f-a3ba-1dffbde5b9b6",
   "metadata": {
    "scrolled": true
   },
   "outputs": [],
   "source": [
    "bankC_df.head(20)"
   ]
  },
  {
   "cell_type": "code",
   "execution_count": 8,
   "id": "ac764d60-1804-4725-b84d-ba72ed19bfaa",
   "metadata": {},
   "outputs": [
    {
     "data": {
      "text/plain": [
       "institute              0\n",
       "age                    0\n",
       "workclass          10078\n",
       "education              0\n",
       "educational-num        0\n",
       "marital-status         0\n",
       "occupation         10116\n",
       "relationship           0\n",
       "race                   0\n",
       "gender                 0\n",
       "capital-gain           0\n",
       "capital-loss           0\n",
       "hours-per-week         0\n",
       "native-country      4905\n",
       "income                 0\n",
       "dtype: int64"
      ]
     },
     "execution_count": 8,
     "metadata": {},
     "output_type": "execute_result"
    }
   ],
   "source": [
    "bankA_df.isnull().sum()"
   ]
  },
  {
   "cell_type": "code",
   "execution_count": 9,
   "id": "e8a8a739-6c81-4a9e-9c6b-6067c31500d5",
   "metadata": {},
   "outputs": [
    {
     "data": {
      "text/plain": [
       "institute              0\n",
       "age                    0\n",
       "workclass          24039\n",
       "education              0\n",
       "educational-num        0\n",
       "marital-status         0\n",
       "occupation         24203\n",
       "relationship           0\n",
       "race                   0\n",
       "gender                 0\n",
       "capital-gain           0\n",
       "capital-loss           0\n",
       "hours-per-week         0\n",
       "native-country      6403\n",
       "income                 0\n",
       "dtype: int64"
      ]
     },
     "execution_count": 9,
     "metadata": {},
     "output_type": "execute_result"
    }
   ],
   "source": [
    "bankB_df.isnull().sum()"
   ]
  },
  {
   "cell_type": "code",
   "execution_count": 10,
   "id": "0b8734f4-5cad-4de4-b9c1-5e463bf80795",
   "metadata": {},
   "outputs": [
    {
     "data": {
      "text/plain": [
       "institute              0\n",
       "age                    0\n",
       "workclass          13196\n",
       "education              0\n",
       "educational-num        0\n",
       "marital-status         0\n",
       "occupation         13359\n",
       "relationship           0\n",
       "race                   0\n",
       "gender                 0\n",
       "capital-gain           0\n",
       "capital-loss           0\n",
       "hours-per-week         0\n",
       "native-country      3095\n",
       "income                 0\n",
       "dtype: int64"
      ]
     },
     "execution_count": 10,
     "metadata": {},
     "output_type": "execute_result"
    }
   ],
   "source": [
    "bankC_df.isnull().sum()"
   ]
  },
  {
   "cell_type": "code",
   "execution_count": null,
   "id": "dd0121f4-0115-420f-95dd-560881e841c1",
   "metadata": {},
   "outputs": [],
   "source": []
  },
  {
   "cell_type": "code",
   "execution_count": 11,
   "id": "bc494de9-2d37-4593-a1b1-e6857aa83ab5",
   "metadata": {},
   "outputs": [],
   "source": [
    "import missingno as mn"
   ]
  },
  {
   "cell_type": "code",
   "execution_count": 12,
   "id": "a1e92f51-a362-4ee7-b856-41bf7816467b",
   "metadata": {},
   "outputs": [
    {
     "data": {
      "image/png": "[encoded data removed]",
      "text/plain": [
       "<Figure size 1000x800 with 2 Axes>"
      ]
     },
     "metadata": {},
     "output_type": "display_data"
    }
   ],
   "source": [
    "mn.matrix(bankB_df,figsize=(10,8));"
   ]
  },
  {
   "cell_type": "code",
   "execution_count": 14,
   "id": "d19bd8e2-9159-4676-9fed-74122a7b3ed7",
   "metadata": {},
   "outputs": [],
   "source": [
    "bankA_copy = bankA_df.copy(deep=True)"
   ]
  },
  {
   "cell_type": "code",
   "execution_count": null,
   "id": "3ab033c6-2ce5-4c4f-bfda-234482dbb418",
   "metadata": {},
   "outputs": [],
   "source": [
    "bankB_copy.isnull().sum()"
   ]
  },
  {
   "cell_type": "code",
   "execution_count": 15,
   "id": "f31f013c-8d7f-4a8e-b187-6bd82f9a6350",
   "metadata": {},
   "outputs": [],
   "source": [
    "def impute_nan_mode(df, column, mode):\n",
    "    df[column] = df[column].fillna(mode)\n",
    "    return df\n",
    "\n",
    "mode_val = bankA_copy[bankA_copy.workclass.notna()]['workclass'].mode()[0]\n",
    "\n",
    "\n",
    "bankA_copy_noNull = impute_nan_mode(bankA_copy, 'workclass', mode_val)\n"
   ]
  },
  {
   "cell_type": "code",
   "execution_count": 16,
   "id": "cac064d8-5cf5-48ca-869e-cbe700fea711",
   "metadata": {},
   "outputs": [
    {
     "data": {
      "text/plain": [
       "0                  Private\n",
       "1                  Private\n",
       "2         Self-emp-not-inc\n",
       "3              Federal-gov\n",
       "4                  Private\n",
       "                ...       \n",
       "226451    Self-emp-not-inc\n",
       "226452         Federal-gov\n",
       "226453             Private\n",
       "226454             Private\n",
       "226455             Private\n",
       "Name: workclass, Length: 226456, dtype: object"
      ]
     },
     "execution_count": 16,
     "metadata": {},
     "output_type": "execute_result"
    }
   ],
   "source": [
    "bankA_copy_noNull['workclass']"
   ]
  },
  {
   "cell_type": "code",
   "execution_count": 17,
   "id": "6cbf393d-8926-483f-8fce-1ff16d483697",
   "metadata": {},
   "outputs": [
    {
     "data": {
      "text/plain": [
       "institute              0\n",
       "age                    0\n",
       "workclass              0\n",
       "education              0\n",
       "educational-num        0\n",
       "marital-status         0\n",
       "occupation         10116\n",
       "relationship           0\n",
       "race                   0\n",
       "gender                 0\n",
       "capital-gain           0\n",
       "capital-loss           0\n",
       "hours-per-week         0\n",
       "native-country      4905\n",
       "income                 0\n",
       "dtype: int64"
      ]
     },
     "execution_count": 17,
     "metadata": {},
     "output_type": "execute_result"
    }
   ],
   "source": [
    "bankA_copy_noNull.isnull().sum()"
   ]
  },
  {
   "cell_type": "markdown",
   "id": "958034d0-7f50-4c60-8030-f6a48e6df0c3",
   "metadata": {},
   "source": [
    "# Data Exploration"
   ]
  },
  {
   "cell_type": "code",
   "execution_count": 18,
   "id": "5d6ea13b-3261-4ec1-85ce-63bf60b7763d",
   "metadata": {},
   "outputs": [],
   "source": [
    "def impute_nan_mode_multiple(df, columns):\n",
    "    for column in columns:\n",
    "        mode = df[column].mode()[0]  # Modus für die Spalte berechnen\n",
    "        df[column] = df[column].fillna(mode)  # NaN-Werte mit Modus ersetzen\n",
    "    return df\n"
   ]
  },
  {
   "cell_type": "code",
   "execution_count": 19,
   "id": "cfc9fd12-fe2a-4950-81e3-0e6c776ca01f",
   "metadata": {},
   "outputs": [],
   "source": [
    "bankB_copy = bankB_df.copy(deep=True)"
   ]
  },
  {
   "cell_type": "code",
   "execution_count": 20,
   "id": "5541a643-3d4d-4c61-b420-c0dc497ca918",
   "metadata": {},
   "outputs": [
    {
     "data": {
      "text/plain": [
       "institute          0\n",
       "age                0\n",
       "workclass          0\n",
       "education          0\n",
       "educational-num    0\n",
       "marital-status     0\n",
       "occupation         0\n",
       "relationship       0\n",
       "race               0\n",
       "gender             0\n",
       "capital-gain       0\n",
       "capital-loss       0\n",
       "hours-per-week     0\n",
       "native-country     0\n",
       "income             0\n",
       "dtype: int64"
      ]
     },
     "execution_count": 20,
     "metadata": {},
     "output_type": "execute_result"
    }
   ],
   "source": [
    "columns_to_impute = ['workclass', 'occupation', 'native-country']\n",
    "bankB_copy = impute_nan_mode_multiple(bankB_copy, columns_to_impute)\n",
    "bankB_copy.isnull().sum()"
   ]
  },
  {
   "cell_type": "code",
   "execution_count": 21,
   "id": "da0513ec-3c07-4eab-ba6e-8f7634cb5456",
   "metadata": {},
   "outputs": [
    {
     "data": {
      "text/plain": [
       "institute              0\n",
       "age                    0\n",
       "workclass          24039\n",
       "education              0\n",
       "educational-num        0\n",
       "marital-status         0\n",
       "occupation         24203\n",
       "relationship           0\n",
       "race                   0\n",
       "gender                 0\n",
       "capital-gain           0\n",
       "capital-loss           0\n",
       "hours-per-week         0\n",
       "native-country      6403\n",
       "income                 0\n",
       "dtype: int64"
      ]
     },
     "execution_count": 21,
     "metadata": {},
     "output_type": "execute_result"
    }
   ],
   "source": [
    "bankB_df.isnull().sum()"
   ]
  },
  {
   "cell_type": "code",
   "execution_count": 23,
   "id": "f000a50c-6e15-4923-804c-bb8ad55f9454",
   "metadata": {},
   "outputs": [
    {
     "data": {
      "text/plain": [
       "age                               0\n",
       "education-num                     0\n",
       "capital-gain                      0\n",
       "capital-loss                      0\n",
       "hours-per-week                    0\n",
       "                                 ..\n",
       "native-country_Thailand           0\n",
       "native-country_Trinadad&Tobago    0\n",
       "native-country_United-States      0\n",
       "native-country_Vietnam            0\n",
       "native-country_Yugoslavia         0\n",
       "Length: 97, dtype: int64"
      ]
     },
     "execution_count": 23,
     "metadata": {},
     "output_type": "execute_result"
    }
   ],
   "source": [
    "bank_clean = pd.read_csv(\"BankA_Clean.csv\")\n",
    "bank_clean.isnull().sum()"
   ]
  },
  {
   "cell_type": "code",
   "execution_count": 24,
   "id": "878c95dc-8546-44b0-819f-8d7f7e8cbce2",
   "metadata": {},
   "outputs": [
    {
     "name": "stdout",
     "output_type": "stream",
     "text": [
      "<class 'pandas.core.frame.DataFrame'>\n",
      "RangeIndex: 226456 entries, 0 to 226455\n",
      "Data columns (total 97 columns):\n",
      " #   Column                                     Non-Null Count   Dtype  \n",
      "---  ------                                     --------------   -----  \n",
      " 0   age                                        226456 non-null  float64\n",
      " 1   education-num                              226456 non-null  float64\n",
      " 2   capital-gain                               226456 non-null  float64\n",
      " 3   capital-loss                               226456 non-null  float64\n",
      " 4   hours-per-week                             226456 non-null  float64\n",
      " 5   income                                     0 non-null       float64\n",
      " 6   education_11th                             226456 non-null  float64\n",
      " 7   education_12th                             226456 non-null  float64\n",
      " 8   education_1st-4th                          226456 non-null  float64\n",
      " 9   education_5th-6th                          226456 non-null  float64\n",
      " 10  education_7th-8th                          226456 non-null  float64\n",
      " 11  education_9th                              226456 non-null  float64\n",
      " 12  education_Assoc-acdm                       226456 non-null  float64\n",
      " 13  education_Assoc-voc                        226456 non-null  float64\n",
      " 14  education_Bachelors                        226456 non-null  float64\n",
      " 15  education_Doctorate                        226456 non-null  float64\n",
      " 16  education_HS-grad                          226456 non-null  float64\n",
      " 17  education_Masters                          226456 non-null  float64\n",
      " 18  education_Preschool                        226456 non-null  float64\n",
      " 19  education_Prof-school                      226456 non-null  float64\n",
      " 20  education_Some-college                     226456 non-null  float64\n",
      " 21  marital-status_Married-AF-spouse           226456 non-null  float64\n",
      " 22  marital-status_Married-civ-spouse          226456 non-null  float64\n",
      " 23  marital-status_Married-spouse-absent       226456 non-null  float64\n",
      " 24  marital-status_Never-married               226456 non-null  float64\n",
      " 25  marital-status_Separated                   226456 non-null  float64\n",
      " 26  marital-status_Widowed                     226456 non-null  float64\n",
      " 27  relationship_Not-in-family                 226456 non-null  float64\n",
      " 28  relationship_Other-relative                226456 non-null  float64\n",
      " 29  relationship_Own-child                     226456 non-null  float64\n",
      " 30  relationship_Unmarried                     226456 non-null  float64\n",
      " 31  relationship_Wife                          226456 non-null  float64\n",
      " 32  race_Asian-Pac-Islander                    226456 non-null  float64\n",
      " 33  race_Black                                 226456 non-null  float64\n",
      " 34  race_Other                                 226456 non-null  float64\n",
      " 35  race_White                                 226456 non-null  float64\n",
      " 36  sex_Male                                   226456 non-null  float64\n",
      " 37  workclass_Local-gov                        226456 non-null  float64\n",
      " 38  workclass_Never-worked                     226456 non-null  float64\n",
      " 39  workclass_Private                          226456 non-null  float64\n",
      " 40  workclass_Self-emp-inc                     226456 non-null  float64\n",
      " 41  workclass_Self-emp-not-inc                 226456 non-null  float64\n",
      " 42  workclass_State-gov                        226456 non-null  float64\n",
      " 43  workclass_Without-pay                      226456 non-null  float64\n",
      " 44  occupation_Armed-Forces                    226456 non-null  float64\n",
      " 45  occupation_Craft-repair                    226456 non-null  float64\n",
      " 46  occupation_Exec-managerial                 226456 non-null  float64\n",
      " 47  occupation_Farming-fishing                 226456 non-null  float64\n",
      " 48  occupation_Handlers-cleaners               226456 non-null  float64\n",
      " 49  occupation_Machine-op-inspct               226456 non-null  float64\n",
      " 50  occupation_Other-service                   226456 non-null  float64\n",
      " 51  occupation_Priv-house-serv                 226456 non-null  float64\n",
      " 52  occupation_Prof-specialty                  226456 non-null  float64\n",
      " 53  occupation_Protective-serv                 226456 non-null  float64\n",
      " 54  occupation_Sales                           226456 non-null  float64\n",
      " 55  occupation_Tech-support                    226456 non-null  float64\n",
      " 56  occupation_Transport-moving                226456 non-null  float64\n",
      " 57  native-country_Cambodia                    226456 non-null  float64\n",
      " 58  native-country_Canada                      226456 non-null  float64\n",
      " 59  native-country_China                       226456 non-null  float64\n",
      " 60  native-country_Columbia                    226456 non-null  float64\n",
      " 61  native-country_Cuba                        226456 non-null  float64\n",
      " 62  native-country_Dominican-Republic          226456 non-null  float64\n",
      " 63  native-country_Ecuador                     226456 non-null  float64\n",
      " 64  native-country_El-Salvador                 226456 non-null  float64\n",
      " 65  native-country_England                     226456 non-null  float64\n",
      " 66  native-country_France                      226456 non-null  float64\n",
      " 67  native-country_Germany                     226456 non-null  float64\n",
      " 68  native-country_Greece                      226456 non-null  float64\n",
      " 69  native-country_Guatemala                   226456 non-null  float64\n",
      " 70  native-country_Haiti                       226456 non-null  float64\n",
      " 71  native-country_Honduras                    226456 non-null  float64\n",
      " 72  native-country_Hong                        226456 non-null  float64\n",
      " 73  native-country_Hungary                     226456 non-null  float64\n",
      " 74  native-country_India                       226456 non-null  float64\n",
      " 75  native-country_Iran                        226456 non-null  float64\n",
      " 76  native-country_Ireland                     226456 non-null  float64\n",
      " 77  native-country_Italy                       226456 non-null  float64\n",
      " 78  native-country_Jamaica                     226456 non-null  float64\n",
      " 79  native-country_Japan                       226456 non-null  float64\n",
      " 80  native-country_Laos                        226456 non-null  float64\n",
      " 81  native-country_Mexico                      226456 non-null  float64\n",
      " 82  native-country_Nicaragua                   226456 non-null  float64\n",
      " 83  native-country_Outlying-US(Guam-USVI-etc)  226456 non-null  float64\n",
      " 84  native-country_Peru                        226456 non-null  float64\n",
      " 85  native-country_Philippines                 226456 non-null  float64\n",
      " 86  native-country_Poland                      226456 non-null  float64\n",
      " 87  native-country_Portugal                    226456 non-null  float64\n",
      " 88  native-country_Puerto-Rico                 226456 non-null  float64\n",
      " 89  native-country_Scotland                    226456 non-null  float64\n",
      " 90  native-country_South                       226456 non-null  float64\n",
      " 91  native-country_Taiwan                      226456 non-null  float64\n",
      " 92  native-country_Thailand                    226456 non-null  float64\n",
      " 93  native-country_Trinadad&Tobago             226456 non-null  float64\n",
      " 94  native-country_United-States               226456 non-null  float64\n",
      " 95  native-country_Vietnam                     226456 non-null  float64\n",
      " 96  native-country_Yugoslavia                  226456 non-null  float64\n",
      "dtypes: float64(97)\n",
      "memory usage: 167.6 MB\n"
     ]
    }
   ],
   "source": [
    "bank_clean.info()"
   ]
  },
  {
   "cell_type": "code",
   "execution_count": 25,
   "id": "b219e1a3-08df-42a4-b585-40026741d988",
   "metadata": {},
   "outputs": [
    {
     "name": "stdout",
     "output_type": "stream",
     "text": [
      "<class 'pandas.core.frame.DataFrame'>\n",
      "RangeIndex: 32561 entries, 0 to 32560\n",
      "Data columns (total 98 columns):\n",
      " #   Column                                     Non-Null Count  Dtype  \n",
      "---  ------                                     --------------  -----  \n",
      " 0   age                                        32561 non-null  float64\n",
      " 1   fnlwgt                                     32561 non-null  float64\n",
      " 2   education-num                              32561 non-null  float64\n",
      " 3   capital-gain                               32561 non-null  float64\n",
      " 4   capital-loss                               32561 non-null  float64\n",
      " 5   hours-per-week                             32561 non-null  float64\n",
      " 6   income                                     32561 non-null  float64\n",
      " 7   education_11th                             32561 non-null  float64\n",
      " 8   education_12th                             32561 non-null  float64\n",
      " 9   education_1st-4th                          32561 non-null  float64\n",
      " 10  education_5th-6th                          32561 non-null  float64\n",
      " 11  education_7th-8th                          32561 non-null  float64\n",
      " 12  education_9th                              32561 non-null  float64\n",
      " 13  education_Assoc-acdm                       32561 non-null  float64\n",
      " 14  education_Assoc-voc                        32561 non-null  float64\n",
      " 15  education_Bachelors                        32561 non-null  float64\n",
      " 16  education_Doctorate                        32561 non-null  float64\n",
      " 17  education_HS-grad                          32561 non-null  float64\n",
      " 18  education_Masters                          32561 non-null  float64\n",
      " 19  education_Preschool                        32561 non-null  float64\n",
      " 20  education_Prof-school                      32561 non-null  float64\n",
      " 21  education_Some-college                     32561 non-null  float64\n",
      " 22  marital-status_Married-AF-spouse           32561 non-null  float64\n",
      " 23  marital-status_Married-civ-spouse          32561 non-null  float64\n",
      " 24  marital-status_Married-spouse-absent       32561 non-null  float64\n",
      " 25  marital-status_Never-married               32561 non-null  float64\n",
      " 26  marital-status_Separated                   32561 non-null  float64\n",
      " 27  marital-status_Widowed                     32561 non-null  float64\n",
      " 28  relationship_Not-in-family                 32561 non-null  float64\n",
      " 29  relationship_Other-relative                32561 non-null  float64\n",
      " 30  relationship_Own-child                     32561 non-null  float64\n",
      " 31  relationship_Unmarried                     32561 non-null  float64\n",
      " 32  relationship_Wife                          32561 non-null  float64\n",
      " 33  race_Asian-Pac-Islander                    32561 non-null  float64\n",
      " 34  race_Black                                 32561 non-null  float64\n",
      " 35  race_Other                                 32561 non-null  float64\n",
      " 36  race_White                                 32561 non-null  float64\n",
      " 37  sex_Male                                   32561 non-null  float64\n",
      " 38  workclass_Local-gov                        32561 non-null  float64\n",
      " 39  workclass_Never-worked                     32561 non-null  float64\n",
      " 40  workclass_Private                          32561 non-null  float64\n",
      " 41  workclass_Self-emp-inc                     32561 non-null  float64\n",
      " 42  workclass_Self-emp-not-inc                 32561 non-null  float64\n",
      " 43  workclass_State-gov                        32561 non-null  float64\n",
      " 44  workclass_Without-pay                      32561 non-null  float64\n",
      " 45  occupation_Armed-Forces                    32561 non-null  float64\n",
      " 46  occupation_Craft-repair                    32561 non-null  float64\n",
      " 47  occupation_Exec-managerial                 32561 non-null  float64\n",
      " 48  occupation_Farming-fishing                 32561 non-null  float64\n",
      " 49  occupation_Handlers-cleaners               32561 non-null  float64\n",
      " 50  occupation_Machine-op-inspct               32561 non-null  float64\n",
      " 51  occupation_Other-service                   32561 non-null  float64\n",
      " 52  occupation_Priv-house-serv                 32561 non-null  float64\n",
      " 53  occupation_Prof-specialty                  32561 non-null  float64\n",
      " 54  occupation_Protective-serv                 32561 non-null  float64\n",
      " 55  occupation_Sales                           32561 non-null  float64\n",
      " 56  occupation_Tech-support                    32561 non-null  float64\n",
      " 57  occupation_Transport-moving                32561 non-null  float64\n",
      " 58  native-country_Canada                      32561 non-null  float64\n",
      " 59  native-country_China                       32561 non-null  float64\n",
      " 60  native-country_Columbia                    32561 non-null  float64\n",
      " 61  native-country_Cuba                        32561 non-null  float64\n",
      " 62  native-country_Dominican-Republic          32561 non-null  float64\n",
      " 63  native-country_Ecuador                     32561 non-null  float64\n",
      " 64  native-country_El-Salvador                 32561 non-null  float64\n",
      " 65  native-country_England                     32561 non-null  float64\n",
      " 66  native-country_France                      32561 non-null  float64\n",
      " 67  native-country_Germany                     32561 non-null  float64\n",
      " 68  native-country_Greece                      32561 non-null  float64\n",
      " 69  native-country_Guatemala                   32561 non-null  float64\n",
      " 70  native-country_Haiti                       32561 non-null  float64\n",
      " 71  native-country_Holand-Netherlands          32561 non-null  float64\n",
      " 72  native-country_Honduras                    32561 non-null  float64\n",
      " 73  native-country_Hong                        32561 non-null  float64\n",
      " 74  native-country_Hungary                     32561 non-null  float64\n",
      " 75  native-country_India                       32561 non-null  float64\n",
      " 76  native-country_Iran                        32561 non-null  float64\n",
      " 77  native-country_Ireland                     32561 non-null  float64\n",
      " 78  native-country_Italy                       32561 non-null  float64\n",
      " 79  native-country_Jamaica                     32561 non-null  float64\n",
      " 80  native-country_Japan                       32561 non-null  float64\n",
      " 81  native-country_Laos                        32561 non-null  float64\n",
      " 82  native-country_Mexico                      32561 non-null  float64\n",
      " 83  native-country_Nicaragua                   32561 non-null  float64\n",
      " 84  native-country_Outlying-US(Guam-USVI-etc)  32561 non-null  float64\n",
      " 85  native-country_Peru                        32561 non-null  float64\n",
      " 86  native-country_Philippines                 32561 non-null  float64\n",
      " 87  native-country_Poland                      32561 non-null  float64\n",
      " 88  native-country_Portugal                    32561 non-null  float64\n",
      " 89  native-country_Puerto-Rico                 32561 non-null  float64\n",
      " 90  native-country_Scotland                    32561 non-null  float64\n",
      " 91  native-country_South                       32561 non-null  float64\n",
      " 92  native-country_Taiwan                      32561 non-null  float64\n",
      " 93  native-country_Thailand                    32561 non-null  float64\n",
      " 94  native-country_Trinadad&Tobago             32561 non-null  float64\n",
      " 95  native-country_United-States               32561 non-null  float64\n",
      " 96  native-country_Vietnam                     32561 non-null  float64\n",
      " 97  native-country_Yugoslavia                  32561 non-null  float64\n",
      "dtypes: float64(98)\n",
      "memory usage: 24.3 MB\n"
     ]
    }
   ],
   "source": [
    "adult = pd.read_csv(\"adult_train.csv\")\n",
    "adult.info()"
   ]
  },
  {
   "cell_type": "code",
   "execution_count": null,
   "id": "3ec2a36b-89fd-4538-b043-b3b347b4aa87",
   "metadata": {},
   "outputs": [],
   "source": []
  }
 ],
 "metadata": {
  "kernelspec": {
   "display_name": "Python 3 (ipykernel)",
   "language": "python",
   "name": "python3"
  },
  "language_info": {
   "codemirror_mode": {
    "name": "ipython",
    "version": 3
   },
   "file_extension": ".py",
   "mimetype": "text/x-python",
   "name": "python",
   "nbconvert_exporter": "python",
   "pygments_lexer": "ipython3",
   "version": "3.9.21"
  }
 },
 "nbformat": 4,
 "nbformat_minor": 5
}
